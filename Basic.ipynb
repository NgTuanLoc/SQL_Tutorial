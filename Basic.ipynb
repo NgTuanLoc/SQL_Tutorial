{
    "metadata": {
        "kernelspec": {
            "name": "SQL",
            "display_name": "SQL",
            "language": "sql"
        },
        "language_info": {
            "name": "sql",
            "version": ""
        }
    },
    "nbformat_minor": 2,
    "nbformat": 4,
    "cells": [
        {
            "cell_type": "markdown",
            "source": [
                "1. **SQL Syntax:**\n",
                "    \n",
                "    - SQL is a query language used to manage and manipulate data in relational databases. It consists of a series of statements that you use to communicate with the database.\n",
                "2. **Data Types:**\n",
                "    \n",
                "    - SQL supports various data types to represent different kinds of information. Common data types include INTEGER (for whole numbers), VARCHAR (for variable-length character strings), DATE (for date values), and more.\n",
                "3. **SQL Statements:**\n",
                "    \n",
                "    - SQL statements are used to perform specific actions on the database. The most common SQL statements include:\n",
                "        - **SELECT:** Used to retrieve data from one or more tables.\n",
                "        - **INSERT:** Used to add new rows of data into a table.\n",
                "        - **UPDATE:** Used to modify existing data in a table.\n",
                "        - **DELETE:** Used to remove data from a table.\n",
                "4. **SQL Keywords:**\n",
                "    \n",
                "    - SQL uses various keywords to specify the type of operation you want to perform. For example:\n",
                "        - `SELECT` is used to retrieve data.\n",
                "        - `FROM` specifies the table from which to retrieve data.\n",
                "        - `WHERE` is used to filter data based on specific conditions.\n",
                "        - `INSERT INTO` is used to add data into a table.\n",
                "        - `UPDATE` and `SET` are used to modify data.\n",
                "        - `DELETE FROM` is used to remove data from a table.\n",
                "5. **SQL Clauses:**\n",
                "    \n",
                "    - SQL statements often consist of multiple clauses that provide additional information and conditions for the operation. Common clauses include:\n",
                "        - `WHERE`: Used to filter rows based on specified conditions.\n",
                "        - `ORDER BY`: Used to sort the result set.\n",
                "        - `GROUP BY`: Used to group rows for aggregate calculations.\n",
                "        - `HAVING`: Used to filter grouped data.\n",
                "        - `LIMIT` (or `TOP` in some database systems): Used to limit the number of rows returned in the result set.\n",
                "6. **SQL Comments:**\n",
                "    \n",
                "    - SQL allows you to add comments to your code to document your queries and make them more understandable. Comments are typically preceded by `--` or enclosed in `/* */` for multi-line comments.\n",
                "7. **SQL Functions:**\n",
                "    \n",
                "    - SQL provides a wide range of functions that can be used in queries to perform operations on data. Common functions include `COUNT`, `SUM`, `AVG`, `MAX`, and `MIN` for aggregation, and string functions like `CONCAT` and `SUBSTRING`.\n",
                "8. **SQL Operators:**\n",
                "    \n",
                "    - SQL includes various operators such as arithmetic operators (+, -, \\*, /), comparison operators (=, \\<\\>, \\<, \\>, \\<=, \\>=), and logical operators (AND, OR, NOT) that are used to create conditions and expressions in queries.\n",
                "9. **Executing SQL Statements:**\n",
                "    \n",
                "    - You typically execute SQL statements using a database management system (DBMS) or a database tool. The specific method for executing SQL statements depends on the DBMS you are using.\n",
                "10. **Practice:**\n",
                "    \n",
                "    - To solidify your understanding of SQL basics, practice writing and executing SQL queries on sample data or databases. Many online platforms and database systems offer environments for hands-on practice."
            ],
            "metadata": {
                "language": "sql",
                "azdata_cell_guid": "1fc48ee8-865e-4f50-bae7-fdd132b863a5"
            },
            "attachments": {}
        },
        {
            "cell_type": "markdown",
            "source": [
                "# **_1/ Create Database_**"
            ],
            "metadata": {
                "azdata_cell_guid": "f5e5471b-74c6-4160-8786-25cf66b5375e"
            },
            "attachments": {}
        },
        {
            "cell_type": "code",
            "source": [
                "-- Create a new database called 'LocalDatabase'\n",
                "-- Connect to the 'master' database to run this snippet\n",
                "USE master\n",
                "GO\n",
                "-- Create the new database if it does not exist already\n",
                "IF NOT EXISTS (\n",
                "    SELECT [name]\n",
                "        FROM sys.databases\n",
                "        WHERE [name] = N'LocalDatabase'\n",
                ")\n",
                "CREATE DATABASE LocalDatabase\n",
                "GO\n",
                "\n",
                "USE LocalDatabase\n",
                "GO"
            ],
            "metadata": {
                "azdata_cell_guid": "b70e79f1-f486-4afd-9833-27ed7697dae4",
                "language": "sql"
            },
            "outputs": [
                {
                    "output_type": "display_data",
                    "data": {
                        "text/html": "Commands completed successfully."
                    },
                    "metadata": {}
                },
                {
                    "output_type": "display_data",
                    "data": {
                        "text/html": "Commands completed successfully."
                    },
                    "metadata": {}
                },
                {
                    "output_type": "display_data",
                    "data": {
                        "text/html": "Total execution time: 00:00:00.359"
                    },
                    "metadata": {}
                }
            ],
            "execution_count": 19
        },
        {
            "cell_type": "markdown",
            "source": [
                "# **2/ Drop Database**"
            ],
            "metadata": {
                "azdata_cell_guid": "cf75e9df-87d0-484d-bea8-cd6079fcef64"
            },
            "attachments": {}
        },
        {
            "cell_type": "markdown",
            "source": [
                ""
            ],
            "metadata": {
                "azdata_cell_guid": "fe6f572d-abcf-48f2-8ae0-27695191e1f1"
            }
        },
        {
            "cell_type": "code",
            "source": [
                "-- -- Drop the database 'LocalDatabase'\n",
                "-- -- Connect to the 'AirBnB_Local' database to run this snippet\n",
                "-- USE AirBnB_Local\n",
                "-- GO\n",
                "-- -- Uncomment the ALTER DATABASE statement below to set the database to SINGLE_USER mode if the drop database command fails because the database is in use.\n",
                "-- -- ALTER DATABASE LocalDatabase SET SINGLE_USER WITH ROLLBACK IMMEDIATE;\n",
                "-- -- Drop the database if it exists\n",
                "-- IF EXISTS (\n",
                "--     SELECT [name]\n",
                "--         FROM sys.databases\n",
                "--         WHERE [name] = N'LocalDatabase'\n",
                "-- )\n",
                "\n",
                "-- DROP DATABASE LocalDatabase\n",
                "-- GO"
            ],
            "metadata": {
                "azdata_cell_guid": "b8a20fd2-a51c-4b66-8994-07d9af8ced82",
                "language": "sql"
            },
            "outputs": [
                {
                    "output_type": "display_data",
                    "data": {
                        "text/html": "Commands completed successfully."
                    },
                    "metadata": {}
                },
                {
                    "output_type": "display_data",
                    "data": {
                        "text/html": "Commands completed successfully."
                    },
                    "metadata": {}
                },
                {
                    "output_type": "display_data",
                    "data": {
                        "text/html": "Total execution time: 00:00:00.129"
                    },
                    "metadata": {}
                }
            ],
            "execution_count": 14
        },
        {
            "cell_type": "markdown",
            "source": [
                "# **3/ Create Table**"
            ],
            "metadata": {
                "language": "sql",
                "azdata_cell_guid": "3b0c42fc-8232-4843-9f00-3922897c166d"
            },
            "attachments": {}
        },
        {
            "cell_type": "markdown",
            "source": [
                "Data Types: https://www.w3schools.com/sql/sql\\_datatypes.asp"
            ],
            "metadata": {
                "language": "sql",
                "azdata_cell_guid": "76c0ef46-47a2-438d-b5c9-6148d81d403f"
            },
            "attachments": {}
        },
        {
            "cell_type": "code",
            "source": [
                "-- Create a new table called '[User]' in schema '[dbo]'\n",
                "-- Drop the table if it already exists\n",
                "USE LocalDatabase\n",
                "GO\n",
                "IF OBJECT_ID('[dbo].[User]', 'U') IS NOT NULL\n",
                "DROP TABLE [dbo].[User]\n",
                "GO\n",
                "-- Create the table in the specified schema\n",
                "CREATE TABLE [dbo].[User]\n",
                "(\n",
                "    [Id] UNIQUEIDENTIFIER DEFAULT NEWID() PRIMARY KEY, -- Primary Key column\n",
                "    [UserName] VARCHAR(50)\n",
                "    -- Specify more columns here\n",
                ");\n",
                "GO"
            ],
            "metadata": {
                "azdata_cell_guid": "24045224-b738-4cc9-93cd-47ddaac937df",
                "language": "sql"
            },
            "outputs": [
                {
                    "output_type": "display_data",
                    "data": {
                        "text/html": "Commands completed successfully."
                    },
                    "metadata": {}
                },
                {
                    "output_type": "display_data",
                    "data": {
                        "text/html": "Commands completed successfully."
                    },
                    "metadata": {}
                },
                {
                    "output_type": "display_data",
                    "data": {
                        "text/html": "Commands completed successfully."
                    },
                    "metadata": {}
                },
                {
                    "output_type": "display_data",
                    "data": {
                        "text/html": "Total execution time: 00:00:00.017"
                    },
                    "metadata": {}
                }
            ],
            "execution_count": 38
        },
        {
            "cell_type": "markdown",
            "source": [
                "## **CRUD**"
            ],
            "metadata": {
                "language": "sql",
                "azdata_cell_guid": "1253d9b3-6ec5-442b-8167-168836dcaf54"
            },
            "attachments": {}
        },
        {
            "cell_type": "code",
            "source": [
                "USE LocalDatabase\n",
                "GO\n",
                "INSERT INTO [dbo].[User] (UserName)\n",
                "VALUES \n",
                "('Loc'),\n",
                "('Loc1'),\n",
                "('Loc2')\n",
                "GO"
            ],
            "metadata": {
                "language": "sql",
                "azdata_cell_guid": "93d8a99f-ae23-4730-b9c7-e21848614ade"
            },
            "outputs": [
                {
                    "output_type": "display_data",
                    "data": {
                        "text/html": "Commands completed successfully."
                    },
                    "metadata": {}
                },
                {
                    "output_type": "display_data",
                    "data": {
                        "text/html": "(3 rows affected)"
                    },
                    "metadata": {}
                },
                {
                    "output_type": "display_data",
                    "data": {
                        "text/html": "Total execution time: 00:00:00.011"
                    },
                    "metadata": {}
                }
            ],
            "execution_count": 54
        },
        {
            "cell_type": "code",
            "source": [
                "USE LocalDatabase\n",
                "GO\n",
                "SELECT * FROM [dbo].[User]\n",
                "GO"
            ],
            "metadata": {
                "language": "sql",
                "azdata_cell_guid": "13f50779-8d39-4cd8-8e68-edb1af75b486"
            },
            "outputs": [
                {
                    "output_type": "display_data",
                    "data": {
                        "text/html": "Commands completed successfully."
                    },
                    "metadata": {}
                },
                {
                    "output_type": "display_data",
                    "data": {
                        "text/html": "(3 rows affected)"
                    },
                    "metadata": {}
                },
                {
                    "output_type": "display_data",
                    "data": {
                        "text/html": "Total execution time: 00:00:00.009"
                    },
                    "metadata": {}
                },
                {
                    "output_type": "execute_result",
                    "execution_count": 55,
                    "data": {
                        "application/vnd.dataresource+json": {
                            "schema": {
                                "fields": [
                                    {
                                        "name": "Id"
                                    },
                                    {
                                        "name": "UserName"
                                    }
                                ]
                            },
                            "data": [
                                {
                                    "Id": "a7cdea85-f6c7-4e05-93c5-0ca6c49a4979",
                                    "UserName": "Loc"
                                },
                                {
                                    "Id": "7eed890e-76e5-4e6b-9f6b-2d96b10bea5f",
                                    "UserName": "Loc2"
                                },
                                {
                                    "Id": "97b25a80-c5c8-4cf7-b7a4-410b6aa45ce9",
                                    "UserName": "Loc1"
                                }
                            ]
                        },
                        "text/html": "<table><tr><th>Id</th><th>UserName</th></tr><tr><td>a7cdea85-f6c7-4e05-93c5-0ca6c49a4979</td><td>Loc</td></tr><tr><td>7eed890e-76e5-4e6b-9f6b-2d96b10bea5f</td><td>Loc2</td></tr><tr><td>97b25a80-c5c8-4cf7-b7a4-410b6aa45ce9</td><td>Loc1</td></tr></table>"
                    },
                    "metadata": {}
                }
            ],
            "execution_count": 55
        },
        {
            "cell_type": "code",
            "source": [
                "-- Delete rows from table '[User]' in schema '[dbo]'\n",
                "USE LocalDatabase\n",
                "GO\n",
                "\n",
                "DELETE FROM [dbo].[User]\n",
                "WHERE UserName LIKE 'Loc%'/* add search conditions here */\n",
                "GO"
            ],
            "metadata": {
                "language": "sql",
                "azdata_cell_guid": "42ff6c1e-c31c-47a9-80a5-1ca8844dc285"
            },
            "outputs": [
                {
                    "output_type": "display_data",
                    "data": {
                        "text/html": "Commands completed successfully."
                    },
                    "metadata": {}
                },
                {
                    "output_type": "display_data",
                    "data": {
                        "text/html": "(3 rows affected)"
                    },
                    "metadata": {}
                },
                {
                    "output_type": "display_data",
                    "data": {
                        "text/html": "Total execution time: 00:00:00.016"
                    },
                    "metadata": {}
                }
            ],
            "execution_count": 53
        },
        {
            "cell_type": "code",
            "source": [
                "USE LocalDatabase\n",
                "GO\n",
                "\n",
                "-- Update rows in table '[User]' in schema '[dbo]'\n",
                "UPDATE [dbo].[User]\n",
                "SET\n",
                "    [UserName] = 'ColumnValue1'\n",
                "    -- Add more columns and values here\n",
                "WHERE Id = 'a7cdea85-f6c7-4e05-93c5-0ca6c49a4979'/* add search conditions here */\n",
                "GO"
            ],
            "metadata": {
                "language": "sql",
                "azdata_cell_guid": "486d6afd-0ccf-499e-b77e-3366ceca993c"
            },
            "outputs": [
                {
                    "output_type": "display_data",
                    "data": {
                        "text/html": "Commands completed successfully."
                    },
                    "metadata": {}
                },
                {
                    "output_type": "display_data",
                    "data": {
                        "text/html": "(1 row affected)"
                    },
                    "metadata": {}
                },
                {
                    "output_type": "display_data",
                    "data": {
                        "text/html": "Total execution time: 00:00:00.022"
                    },
                    "metadata": {}
                }
            ],
            "execution_count": 56
        },
        {
            "cell_type": "code",
            "source": [
                "-- -- Drop a table called 'User' in schema 'dbo'\n",
                "-- -- Drop the table if it already exists\n",
                "-- IF OBJECT_ID('[dbo].[User]', 'U') IS NOT NULL\n",
                "-- DROP TABLE [dbo].[User]\n",
                "-- GO"
            ],
            "metadata": {
                "language": "sql",
                "azdata_cell_guid": "0ef024cf-45f8-4109-a869-a5097382e0af"
            },
            "outputs": [
                {
                    "output_type": "display_data",
                    "data": {
                        "text/html": "Commands completed successfully."
                    },
                    "metadata": {}
                },
                {
                    "output_type": "display_data",
                    "data": {
                        "text/html": "Total execution time: 00:00:00.002"
                    },
                    "metadata": {}
                }
            ],
            "execution_count": 37
        },
        {
            "cell_type": "markdown",
            "source": [
                "Learning SQL is a valuable skill, whether you're a developer, data analyst, or just interested in working with databases. Here are some essential topics to learn when diving into SQL:\n",
                "\n",
                "1. **SQL Basics:**\n",
                "    \n",
                "    - **SQL Syntax:** Learn how SQL statements are structured, including SELECT, INSERT, UPDATE, DELETE, and more.\n",
                "    - **Data Types:** Understand different data types like INTEGER, VARCHAR, DATE, and how to use them.\n",
                "2. **Database Design:**\n",
                "    \n",
                "    - **Normalization:** Learn about database normalization to design efficient, scalable databases.\n",
                "    - **Entity-Relationship Diagrams (ERD):** Understand how to create ERDs to plan your database structure.\n",
                "3. **Data Manipulation:**\n",
                "    \n",
                "    - **SELECT Statements:** Retrieve data from a database using SELECT queries.\n",
                "    - **Filtering and Sorting:** Use WHERE and ORDER BY clauses to filter and sort query results.\n",
                "    - **Joins:** Learn about different types of joins (INNER, LEFT, RIGHT, FULL) to combine data from multiple tables.\n",
                "    - **Aggregate Functions:** Use functions like COUNT, SUM, AVG, MAX, and MIN to perform calculations on data.\n",
                "4. **Data Modification:**\n",
                "    \n",
                "    - **INSERT, UPDATE, DELETE:** Learn how to add, modify, and delete data in a database.\n",
                "5. **Constraints:**\n",
                "    \n",
                "    - **Primary Keys:** Understand how to define primary keys to ensure data uniqueness.\n",
                "    - **Foreign Keys:** Learn how to establish relationships between tables using foreign keys.\n",
                "    - **CHECK Constraints:** Implement rules to validate data during insertion or update.\n",
                "6. **Advanced SQL:**\n",
                "    \n",
                "    - **Subqueries:** Use subqueries to perform operations within queries.\n",
                "    - **Views:** Create virtual tables to simplify complex queries.\n",
                "    - **Indexes:** Optimize query performance with indexes.\n",
                "    - **Transactions:** Learn about ACID properties and how to manage transactions.\n",
                "7. **Stored Procedures and Functions:**\n",
                "    \n",
                "    - **Create and Execute:** Learn how to create and execute stored procedures and functions to encapsulate SQL logic.\n",
                "    - **Parameters:** Understand how to pass parameters to stored procedures and functions.\n",
                "8. **Advanced Topics:**\n",
                "    \n",
                "    - **Window Functions:** Analyze data within partitions using window functions.\n",
                "    - **CTE (Common Table Expressions):** Use CTEs for recursive queries and query simplification.\n",
                "    - **Dynamic SQL:** Generate SQL statements dynamically based on certain conditions.\n",
                "9. **Performance Optimization:**\n",
                "    \n",
                "    - **Query Optimization:** Understand techniques for optimizing SQL queries.\n",
                "    - **Indexing Strategies:** Learn how to choose and create appropriate indexes.\n",
                "    - **Normalization vs. Denormalization:** Understand when to normalize or denormalize your database design for performance.\n",
                "10. **Security:**\n",
                "    \n",
                "    - **SQL Injection Prevention:** Learn how to prevent SQL injection attacks.\n",
                "    - **User Privileges:** Understand how to grant and manage user access to the database.\n",
                "11. **Working with Real Databases:**\n",
                "    \n",
                "    - Practice by working with real-world databases like MySQL, PostgreSQL, SQL Server, or SQLite.\n",
                "    - Use database management tools such as phpMyAdmin, pgAdmin, or SQL Server Management Studio.\n",
                "12. **SQL Dialects:**\n",
                "    \n",
                "    - Be aware that SQL syntax may vary slightly between database systems, so learn the specific dialect of SQL relevant to your chosen database.\n",
                "\n",
                "Remember that practice is key when learning SQL. You can find online tutorials, courses, and hands-on exercises to reinforce your SQL skills. Building and querying databases is an excellent way to gain proficiency in SQL."
            ],
            "metadata": {
                "azdata_cell_guid": "c9863a20-0733-4a58-a8a2-5f87f5f79c31"
            },
            "attachments": {}
        }
    ]
}