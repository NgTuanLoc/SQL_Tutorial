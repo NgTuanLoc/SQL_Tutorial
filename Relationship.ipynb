{
    "metadata": {
        "kernelspec": {
            "name": "SQL",
            "display_name": "SQL",
            "language": "sql"
        },
        "language_info": {
            "name": "sql",
            "version": ""
        }
    },
    "nbformat_minor": 2,
    "nbformat": 4,
    "cells": [
        {
            "cell_type": "markdown",
            "source": [
                "- The `Users` table represents users.\n",
                "- The `Addresses` table represents user addresses, demonstrating a one-to-one relationship with the `Users` table.\n",
                "- The `Orders` table represents orders placed by users, demonstrating a one-to-many relationship with the `Users` table.\n",
                "- The `Products` table represents products, and the `OrderItems` table serves as a junction table to represent the many-to-many relationship between orders and products."
            ],
            "metadata": {
                "azdata_cell_guid": "d6092a72-f70f-4d04-9c42-dd7a34ae45b6"
            },
            "attachments": {}
        },
        {
            "cell_type": "code",
            "source": [
                "USE LocalDatabase\n",
                "GO"
            ],
            "metadata": {
                "language": "sql",
                "azdata_cell_guid": "b6eab293-e872-4165-b281-3e992bc47986"
            },
            "outputs": [
                {
                    "output_type": "display_data",
                    "data": {
                        "text/html": "Commands completed successfully."
                    },
                    "metadata": {}
                },
                {
                    "output_type": "display_data",
                    "data": {
                        "text/html": "Total execution time: 00:00:00.003"
                    },
                    "metadata": {}
                }
            ],
            "execution_count": 2
        },
        {
            "cell_type": "markdown",
            "source": [
                "1. **One-to-One Relationship:**\n",
                "    - In a one-to-one relationship, each record in one table corresponds to one and only one record in another table.\n",
                "    - In this example, each user can have one and only one address."
            ],
            "metadata": {
                "language": "sql",
                "azdata_cell_guid": "682a48ce-8509-420b-bf1c-11f18f74ad36"
            },
            "attachments": {}
        },
        {
            "cell_type": "code",
            "source": [
                "USE LocalDatabase;\n",
                "GO\n",
                "\n",
                "-- Aldready Create User Table\n",
                "CREATE TABLE Address (\n",
                "    [Id] UNIQUEIDENTIFIER DEFAULT NEWID() PRIMARY KEY, -- Primary Key column,\n",
                "    UserID UNIQUEIDENTIFIER UNIQUE,\n",
                "    StreetAddress VARCHAR(100),\n",
                "    City VARCHAR(50),\n",
                "    -- Other address-related columns\n",
                ");\n",
                "GO\n",
                "\n",
                "-- Define the one-to-one relationship\n",
                "ALTER TABLE Address\n",
                "ADD CONSTRAINT FK_Address_User\n",
                "FOREIGN KEY (UserID) REFERENCES [User](Id);\n",
                "GO"
            ],
            "metadata": {
                "azdata_cell_guid": "b30d1be6-2653-4d37-acce-9b87d8d14ca0",
                "language": "sql"
            },
            "outputs": [
                {
                    "output_type": "display_data",
                    "data": {
                        "text/html": "Commands completed successfully."
                    },
                    "metadata": {}
                },
                {
                    "output_type": "error",
                    "evalue": "Msg 2714, Level 16, State 6, Line 5\nThere is already an object named 'Address' in the database.",
                    "ename": "",
                    "traceback": []
                },
                {
                    "output_type": "display_data",
                    "data": {
                        "text/html": "Commands completed successfully."
                    },
                    "metadata": {}
                },
                {
                    "output_type": "display_data",
                    "data": {
                        "text/html": "Total execution time: 00:00:00.037"
                    },
                    "metadata": {}
                }
            ],
            "execution_count": 5
        },
        {
            "cell_type": "markdown",
            "source": [
                "2. **One-to-Many Relationship:**\n",
                "    - In a one-to-many relationship, each record in one table can have one or more related records in another table.\n",
                "    - In this example, each user can place multiple orders."
            ],
            "metadata": {
                "language": "sql",
                "azdata_cell_guid": "bc7f5422-9238-4a31-97ba-30c1ae8fd9f1"
            },
            "attachments": {}
        },
        {
            "cell_type": "code",
            "source": [
                "USE LocalDatabase\n",
                "GO\n",
                "\n",
                "CREATE TABLE Order (\n",
                "    [Id] UNIQUEIDENTIFIER DEFAULT NEWID() PRIMARY KEY, -- Primary Key column,\n",
                "    UserID UNIQUEIDENTIFIER UNIQUE,\n",
                "    OrderDate DATE,\n",
                "    TotalAmount DECIMAL(10, 2),\n",
                "    -- Other order-related columns\n",
                ");\n",
                "GO\n",
                "\n",
                "-- Define the one-to-many relationship\n",
                "ALTER TABLE Order\n",
                "ADD CONSTRAINT FK_Order_User\n",
                "FOREIGN KEY (UserID) REFERENCES [User](Id);\n",
                "GO"
            ],
            "metadata": {
                "language": "sql",
                "azdata_cell_guid": "66b6f521-b403-4976-85dd-f2194a050072"
            },
            "outputs": [
                {
                    "output_type": "display_data",
                    "data": {
                        "text/html": "Commands completed successfully."
                    },
                    "metadata": {}
                },
                {
                    "output_type": "error",
                    "ename": "",
                    "evalue": "Msg 156, Level 15, State 1, Line 4\nIncorrect syntax near the keyword 'Order'.",
                    "traceback": []
                },
                {
                    "output_type": "error",
                    "ename": "",
                    "evalue": "Msg 156, Level 15, State 1, Line 14\nIncorrect syntax near the keyword 'Order'.",
                    "traceback": []
                },
                {
                    "output_type": "display_data",
                    "data": {
                        "text/html": "Total execution time: 00:00:00.019"
                    },
                    "metadata": {}
                }
            ],
            "execution_count": 16
        },
        {
            "cell_type": "markdown",
            "source": [
                "3. **Many-to-Many Relationship:**\n",
                "    - In a many-to-many relationship, multiple records in one table can relate to multiple records in another table.\n",
                "    - In this example, users can place multiple orders, and each order can contain multiple products."
            ],
            "metadata": {
                "language": "sql",
                "azdata_cell_guid": "07f0e03f-1447-4e80-8227-57f61c0eb3f0"
            },
            "attachments": {}
        },
        {
            "cell_type": "code",
            "source": [
                "USE LocalDatabase\n",
                "GO\n",
                "\n",
                "INSERT INTO [dbo].[Address] (UserId, StreetAddress, City)\n",
                "VALUES\n",
                "('a7cdea85-f6c7-4e05-93c5-0ca6c49a4979', '82PHC', 'HCM')\n",
                "GO"
            ],
            "metadata": {
                "language": "sql",
                "azdata_cell_guid": "e5f9d939-c13a-45c9-b6d3-74782a85cb73"
            },
            "outputs": [
                {
                    "output_type": "display_data",
                    "data": {
                        "text/html": "Commands completed successfully."
                    },
                    "metadata": {}
                },
                {
                    "output_type": "display_data",
                    "data": {
                        "text/html": "(1 row affected)"
                    },
                    "metadata": {}
                },
                {
                    "output_type": "display_data",
                    "data": {
                        "text/html": "Total execution time: 00:00:00.021"
                    },
                    "metadata": {}
                }
            ],
            "execution_count": 11
        },
        {
            "cell_type": "code",
            "source": [
                "USE LocalDatabase\n",
                "GO\n",
                "-- Select rows from a Table or View '[Address]' in schema '[dbo]'\n",
                "SELECT * FROM [dbo].[Address] a\n",
                "JOIN [dbo].[User] u ON u.Id = a.UserID\n",
                "GO"
            ],
            "metadata": {
                "language": "sql",
                "azdata_cell_guid": "2ea3023c-3b67-4c9c-9766-cf2d531b614f"
            },
            "outputs": [
                {
                    "output_type": "display_data",
                    "data": {
                        "text/html": "Commands completed successfully."
                    },
                    "metadata": {}
                },
                {
                    "output_type": "display_data",
                    "data": {
                        "text/html": "(1 row affected)"
                    },
                    "metadata": {}
                },
                {
                    "output_type": "display_data",
                    "data": {
                        "text/html": "Total execution time: 00:00:00.036"
                    },
                    "metadata": {}
                },
                {
                    "output_type": "execute_result",
                    "execution_count": 13,
                    "data": {
                        "application/vnd.dataresource+json": {
                            "schema": {
                                "fields": [
                                    {
                                        "name": "Id"
                                    },
                                    {
                                        "name": "UserID"
                                    },
                                    {
                                        "name": "StreetAddress"
                                    },
                                    {
                                        "name": "City"
                                    },
                                    {
                                        "name": "Id"
                                    },
                                    {
                                        "name": "UserName"
                                    }
                                ]
                            },
                            "data": [
                                {
                                    "Id": "a7cdea85-f6c7-4e05-93c5-0ca6c49a4979",
                                    "UserID": "a7cdea85-f6c7-4e05-93c5-0ca6c49a4979",
                                    "StreetAddress": "82PHC",
                                    "City": "HCM",
                                    "UserName": "ColumnValue1"
                                }
                            ]
                        },
                        "text/html": "<table><tr><th>Id</th><th>UserID</th><th>StreetAddress</th><th>City</th><th>Id</th><th>UserName</th></tr><tr><td>30833f37-b3a9-4b22-8422-cbca26f48c06</td><td>a7cdea85-f6c7-4e05-93c5-0ca6c49a4979</td><td>82PHC</td><td>HCM</td><td>a7cdea85-f6c7-4e05-93c5-0ca6c49a4979</td><td>ColumnValue1</td></tr></table>"
                    },
                    "metadata": {}
                }
            ],
            "execution_count": 13
        }
    ]
}