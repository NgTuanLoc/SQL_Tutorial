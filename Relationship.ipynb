{
    "metadata": {
        "kernelspec": {
            "name": "SQL",
            "display_name": "SQL",
            "language": "sql"
        },
        "language_info": {
            "name": "sql",
            "version": ""
        }
    },
    "nbformat_minor": 2,
    "nbformat": 4,
    "cells": [
        {
            "cell_type": "markdown",
            "source": [
                "- The `Users` table represents users.\n",
                "- The `Addresses` table represents user addresses, demonstrating a one-to-one relationship with the `Users` table.\n",
                "- The `Orders` table represents orders placed by users, demonstrating a one-to-many relationship with the `Users` table.\n",
                "- The `Products` table represents products, and the `OrderItems` table serves as a junction table to represent the many-to-many relationship between orders and products."
            ],
            "metadata": {
                "azdata_cell_guid": "d6092a72-f70f-4d04-9c42-dd7a34ae45b6"
            },
            "attachments": {}
        },
        {
            "cell_type": "code",
            "source": [
                "USE LocalDatabase\n",
                "GO"
            ],
            "metadata": {
                "language": "sql",
                "azdata_cell_guid": "b6eab293-e872-4165-b281-3e992bc47986"
            },
            "outputs": [
                {
                    "output_type": "display_data",
                    "data": {
                        "text/html": "Commands completed successfully."
                    },
                    "metadata": {}
                },
                {
                    "output_type": "display_data",
                    "data": {
                        "text/html": "Total execution time: 00:00:00.005"
                    },
                    "metadata": {}
                }
            ],
            "execution_count": 7
        },
        {
            "cell_type": "code",
            "source": [
                "-- Aldready Create User Table\n",
                "-- CREATE TABLE Address (\n",
                "--     [Id] UNIQUEIDENTIFIER DEFAULT NEWID() PRIMARY KEY, -- Primary Key column,\n",
                "--     UserID UNIQUEIDENTIFIER UNIQUE,\n",
                "--     StreetAddress VARCHAR(100),\n",
                "--     City VARCHAR(50),\n",
                "--     -- Other address-related columns\n",
                "-- );\n",
                "\n",
                "-- Define the one-to-one relationship\n",
                "ALTER TABLE Address\n",
                "ADD CONSTRAINT FK_Address_User\n",
                "FOREIGN KEY (UserID) REFERENCES Users(Id);"
            ],
            "metadata": {
                "azdata_cell_guid": "b30d1be6-2653-4d37-acce-9b87d8d14ca0",
                "language": "sql"
            },
            "outputs": [
                {
                    "output_type": "display_data",
                    "data": {
                        "text/html": "Commands completed successfully."
                    },
                    "metadata": {}
                },
                {
                    "output_type": "error",
                    "evalue": "Msg 4902, Level 16, State 1, Line 13\nCannot find the object \"Address\" because it does not exist or you do not have permissions.",
                    "ename": "",
                    "traceback": []
                },
                {
                    "output_type": "display_data",
                    "data": {
                        "text/html": "Total execution time: 00:00:00.016"
                    },
                    "metadata": {}
                }
            ],
            "execution_count": 6
        }
    ]
}